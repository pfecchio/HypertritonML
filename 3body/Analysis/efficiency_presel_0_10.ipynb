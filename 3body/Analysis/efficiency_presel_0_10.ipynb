{
 "cells": [
  {
   "cell_type": "code",
   "execution_count": null,
   "metadata": {},
   "outputs": [],
   "source": [
    "import uproot \n",
    "import pandas as pd\n",
    "import numpy as np"
   ]
  },
  {
   "cell_type": "code",
   "execution_count": null,
   "metadata": {},
   "outputs": [],
   "source": [
    "df_event=uproot.open('../../../HypertritonAnalysis/Trees/HyperTritonTree_19d2.root')['_default']['fTreeV0'].pandas.df(['fCent'])"
   ]
  },
  {
   "cell_type": "code",
   "execution_count": null,
   "metadata": {},
   "outputs": [],
   "source": [
    "df_sim=uproot.open('../../../HypertritonAnalysis/Trees/HyperTritonTree_19d2.root')['_default']['fTreeV0'].pandas.df(['SHyperTriton.fPxHe3','SHyperTriton.fPyHe3','SHyperTriton.fPzHe3','SHyperTriton.fPxPi','SHyperTriton.fPyPi','SHyperTriton.fPzPi'])"
   ]
  },
  {
   "cell_type": "code",
   "execution_count": null,
   "metadata": {},
   "outputs": [],
   "source": [
    "df_sim=pd.merge(df_event,df_sim,how='outer',on='entry')"
   ]
  },
  {
   "cell_type": "code",
   "execution_count": null,
   "metadata": {},
   "outputs": [],
   "source": [
    "df_sim.columns=df_sim.columns.str.strip().str.replace('.', '_').str.replace('SHyperTriton_f', '')"
   ]
  },
  {
   "cell_type": "code",
   "execution_count": null,
   "metadata": {},
   "outputs": [],
   "source": [
    "df_sim.eval('V0pt=sqrt((PxHe3+PxPi)**2+(PyHe3+PyPi)**2+(PzHe3+PzPi)**2)',inplace=True)"
   ]
  },
  {
   "cell_type": "code",
   "execution_count": null,
   "metadata": {},
   "outputs": [],
   "source": [
    "df_rec=uproot.open('../../../HypertritonAnalysis/Trees/HyperTritonTree_19d2.root')['_default']['fTreeV0'].pandas.df(['RHyperTriton.fPxHe3','RHyperTriton.fPyHe3','RHyperTriton.fPzHe3','RHyperTriton.fPxPi','RHyperTriton.fPyPi','RHyperTriton.fPzPi'])"
   ]
  },
  {
   "cell_type": "code",
   "execution_count": null,
   "metadata": {},
   "outputs": [],
   "source": [
    "df_rec.columns=df_rec.columns.str.strip().str.replace('.', '_').str.replace('RHyperTriton_f', '')"
   ]
  },
  {
   "cell_type": "code",
   "execution_count": null,
   "metadata": {},
   "outputs": [],
   "source": [
    "df_rec.eval('V0pt=sqrt((PxHe3+PxPi)**2+(PyHe3+PyPi)**2+(PzHe3+PzPi)**2)',inplace=True)"
   ]
  },
  {
   "cell_type": "code",
   "execution_count": null,
   "metadata": {},
   "outputs": [],
   "source": [
    "df_rec=pd.merge(df_event,df_rec,how='outer',on='entry')"
   ]
  },
  {
   "cell_type": "code",
   "execution_count": null,
   "metadata": {},
   "outputs": [],
   "source": [
    "eff_V0_0_10=[]"
   ]
  },
  {
   "cell_type": "code",
   "execution_count": null,
   "metadata": {},
   "outputs": [],
   "source": [
    "eff_V0_0_10.append(len(df_rec.query('2<=V0pt<3 and fCent<10'))/len(df_sim.query('2<=V0pt<3 and fCent<10')))"
   ]
  },
  {
   "cell_type": "code",
   "execution_count": null,
   "metadata": {},
   "outputs": [],
   "source": [
    "eff_V0_0_10.append(len(df_rec.query('3<=V0pt<4 and fCent<10'))/len(df_sim.query('3<=V0pt<4 and fCent<10')))"
   ]
  },
  {
   "cell_type": "code",
   "execution_count": null,
   "metadata": {},
   "outputs": [],
   "source": [
    "eff_V0_0_10.append(len(df_rec.query('4<=V0pt<5 and fCent<10'))/len(df_sim.query('4<=V0pt<5 and fCent<10')))"
   ]
  },
  {
   "cell_type": "code",
   "execution_count": null,
   "metadata": {},
   "outputs": [],
   "source": [
    "eff_V0_0_10.append(len(df_rec.query('5<=V0pt<9 and fCent<10'))/len(df_sim.query('5<=V0pt<9 and fCent<10')))"
   ]
  },
  {
   "cell_type": "code",
   "execution_count": null,
   "metadata": {},
   "outputs": [],
   "source": [
    "np.save('../PreSelEfficiency/eff_V0_0_10.npy',np.array(eff_V0_0_10))"
   ]
  },
  {
   "cell_type": "code",
   "execution_count": null,
   "metadata": {},
   "outputs": [],
   "source": [
    "eff_V0_0_10"
   ]
  }
 ],
 "metadata": {
  "kernelspec": {
   "display_name": "Python 3",
   "language": "python",
   "name": "python3"
  },
  "language_info": {
   "codemirror_mode": {
    "name": "ipython",
    "version": 3
   },
   "file_extension": ".py",
   "mimetype": "text/x-python",
   "name": "python",
   "nbconvert_exporter": "python",
   "pygments_lexer": "ipython3",
   "version": "3.6.8"
  }
 },
 "nbformat": 4,
 "nbformat_minor": 2
}
